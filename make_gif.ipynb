{
 "cells": [
  {
   "cell_type": "markdown",
   "metadata": {},
   "source": [
    "### Run"
   ]
  },
  {
   "cell_type": "code",
   "execution_count": 2,
   "metadata": {},
   "outputs": [
    {
     "name": "stderr",
     "output_type": "stream",
     "text": [
      "100%|██████████| 35/35 [00:07<00:00,  4.41it/s]\n"
     ]
    }
   ],
   "source": [
    "from utils import make_gif_from_dicom\n",
    "from models import UNet\n",
    "\n",
    "netG_B2A = UNet(1, 1, 32)\n",
    "ckpts = [\n",
    "    'mlruns/0/4a677293b79e4991bd675f50cf70f0b7/049.ckpt' # bs4\n",
    "]\n",
    "make_gif_from_dicom('gif/00023997','gif/test8.gif', netG_B2A, ckpts, device='cuda:3',pad=0)"
   ]
  },
  {
   "cell_type": "markdown",
   "metadata": {
    "collapsed": "true"
   },
   "source": [
    "### 草稿"
   ]
  },
  {
   "cell_type": "code",
   "execution_count": 2,
   "metadata": {},
   "outputs": [],
   "source": [
    "from pydicom import dcmread\n",
    "import pylibjpeg\n",
    "import matplotlib.animation as animation\n",
    "from IPython.display import HTML"
   ]
  },
  {
   "cell_type": "code",
   "execution_count": 3,
   "metadata": {},
   "outputs": [],
   "source": [
    "arr = dcmread('gif/00023997').pixel_array"
   ]
  },
  {
   "cell_type": "code",
   "execution_count": null,
   "metadata": {},
   "outputs": [],
   "source": [
    "# 预览，可跳过\n",
    "fig = plt.figure(figsize=(8,8))\n",
    "plt.axis(\"off\")\n",
    "ims = [[plt.imshow(arr[i],cmap='gray')] for i in range(0,arr.shape[0],1)]\n",
    "ani = animation.ArtistAnimation(fig, ims, interval=100, repeat_delay=True, blit=False)\n",
    "\n",
    "HTML(ani.to_jshtml())"
   ]
  },
  {
   "cell_type": "code",
   "execution_count": 268,
   "metadata": {},
   "outputs": [],
   "source": []
  },
  {
   "cell_type": "code",
   "execution_count": null,
   "metadata": {},
   "outputs": [],
   "source": [
    "tsr = torch.from_numpy(arr)/255\n",
    "tfmc = T.Compose([\n",
    "    T.Resize(256),\n",
    "    T.Normalize((0.5,), (0.5,))\n",
    "])\n",
    "tsr = tfmc(tsr)\n",
    "\n",
    "imgs = []\n",
    "for i in tqdm(range(tsr.shape[0])):\n",
    "    B = tsr[i].unsqueeze(0).unsqueeze(0)\n",
    "    fakeA = netG_B2A.model(B)\n",
    "    fakeA = torchvision.utils.make_grid(fakeA,normalize=True)\n",
    "#     fakeA = T.functional.adjust_contrast(fakeA,2)\n",
    "#     fakeA = T.functional.adjust_gamma(fakeA,1.5)\n",
    "    B = torchvision.utils.make_grid(B,normalize=True)\n",
    "    \n",
    "    fakeA = T.ToPILImage()(fakeA)\n",
    "    fakeA = ImageOps.autocontrast(fakeA,cutoff=1)\n",
    "    fakeA = T.ToTensor()(fakeA)\n",
    "    \n",
    "    B_fakeA = torch.stack((B,fakeA),dim=0)\n",
    "    a = torchvision.utils.make_grid(B_fakeA)\n",
    "    img = T.ToPILImage()(a)\n",
    "    \n",
    "    imgs.append(img)"
   ]
  },
  {
   "cell_type": "code",
   "execution_count": 1158,
   "metadata": {},
   "outputs": [],
   "source": [
    "img.save('gif/test7.gif', save_all=True, append_images=imgs)"
   ]
  }
 ],
 "metadata": {
  "kernelspec": {
   "display_name": "Python 3.7.4 64-bit ('base': conda)",
   "language": "python",
   "name": "python37464bitbasecondaf63bac1a07634c71aa70aecffb3be0e1"
  },
  "language_info": {
   "codemirror_mode": {
    "name": "ipython",
    "version": 3
   },
   "file_extension": ".py",
   "mimetype": "text/x-python",
   "name": "python",
   "nbconvert_exporter": "python",
   "pygments_lexer": "ipython3",
   "version": "3.7.4"
  }
 },
 "nbformat": 4,
 "nbformat_minor": 4
}
